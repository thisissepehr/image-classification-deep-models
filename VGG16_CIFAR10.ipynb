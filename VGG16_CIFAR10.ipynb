{
  "nbformat": 4,
  "nbformat_minor": 0,
  "metadata": {
    "colab": {
      "name": "VGG16_CIFAR10",
      "provenance": [],
      "collapsed_sections": [],
      "machine_shape": "hm",
      "authorship_tag": "ABX9TyOW9GjhwBBlBgSTzMPNWBoc",
      "include_colab_link": true
    },
    "kernelspec": {
      "name": "python3",
      "display_name": "Python 3"
    },
    "language_info": {
      "name": "python"
    },
    "accelerator": "GPU",
    "widgets": {
      "application/vnd.jupyter.widget-state+json": {
        "442bc69988e94ecd93278acda99bd54d": {
          "model_module": "@jupyter-widgets/controls",
          "model_name": "HBoxModel",
          "model_module_version": "1.5.0",
          "state": {
            "_dom_classes": [],
            "_model_module": "@jupyter-widgets/controls",
            "_model_module_version": "1.5.0",
            "_model_name": "HBoxModel",
            "_view_count": null,
            "_view_module": "@jupyter-widgets/controls",
            "_view_module_version": "1.5.0",
            "_view_name": "HBoxView",
            "box_style": "",
            "children": [
              "IPY_MODEL_24fc7b7abc2b40c3b9bcee485b1a0c15",
              "IPY_MODEL_fcc3fa0cb2944888bcec27dba33fcefa",
              "IPY_MODEL_985efaf5e75648be86e5765ace4717a8"
            ],
            "layout": "IPY_MODEL_cc94ebb845484479a4e925de7a525dc3"
          }
        },
        "24fc7b7abc2b40c3b9bcee485b1a0c15": {
          "model_module": "@jupyter-widgets/controls",
          "model_name": "HTMLModel",
          "model_module_version": "1.5.0",
          "state": {
            "_dom_classes": [],
            "_model_module": "@jupyter-widgets/controls",
            "_model_module_version": "1.5.0",
            "_model_name": "HTMLModel",
            "_view_count": null,
            "_view_module": "@jupyter-widgets/controls",
            "_view_module_version": "1.5.0",
            "_view_name": "HTMLView",
            "description": "",
            "description_tooltip": null,
            "layout": "IPY_MODEL_7eb0b07769c043959e6162d2976c6564",
            "placeholder": "​",
            "style": "IPY_MODEL_5429cb8db42b4adb9ffbebc4bce7eb68",
            "value": "100%"
          }
        },
        "fcc3fa0cb2944888bcec27dba33fcefa": {
          "model_module": "@jupyter-widgets/controls",
          "model_name": "FloatProgressModel",
          "model_module_version": "1.5.0",
          "state": {
            "_dom_classes": [],
            "_model_module": "@jupyter-widgets/controls",
            "_model_module_version": "1.5.0",
            "_model_name": "FloatProgressModel",
            "_view_count": null,
            "_view_module": "@jupyter-widgets/controls",
            "_view_module_version": "1.5.0",
            "_view_name": "ProgressView",
            "bar_style": "success",
            "description": "",
            "description_tooltip": null,
            "layout": "IPY_MODEL_7c25e2cf486b4cff94c49b34377dcc43",
            "max": 157,
            "min": 0,
            "orientation": "horizontal",
            "style": "IPY_MODEL_de2190321758421abdb9d560ed29a635",
            "value": 157
          }
        },
        "985efaf5e75648be86e5765ace4717a8": {
          "model_module": "@jupyter-widgets/controls",
          "model_name": "HTMLModel",
          "model_module_version": "1.5.0",
          "state": {
            "_dom_classes": [],
            "_model_module": "@jupyter-widgets/controls",
            "_model_module_version": "1.5.0",
            "_model_name": "HTMLModel",
            "_view_count": null,
            "_view_module": "@jupyter-widgets/controls",
            "_view_module_version": "1.5.0",
            "_view_name": "HTMLView",
            "description": "",
            "description_tooltip": null,
            "layout": "IPY_MODEL_e669a29ff7d84889842af3f71e962337",
            "placeholder": "​",
            "style": "IPY_MODEL_17a3939d8a2b4bfd97be7d71b736adce",
            "value": " 157/157 [03:24&lt;00:00,  1.03s/it]"
          }
        },
        "cc94ebb845484479a4e925de7a525dc3": {
          "model_module": "@jupyter-widgets/base",
          "model_name": "LayoutModel",
          "model_module_version": "1.2.0",
          "state": {
            "_model_module": "@jupyter-widgets/base",
            "_model_module_version": "1.2.0",
            "_model_name": "LayoutModel",
            "_view_count": null,
            "_view_module": "@jupyter-widgets/base",
            "_view_module_version": "1.2.0",
            "_view_name": "LayoutView",
            "align_content": null,
            "align_items": null,
            "align_self": null,
            "border": null,
            "bottom": null,
            "display": null,
            "flex": null,
            "flex_flow": null,
            "grid_area": null,
            "grid_auto_columns": null,
            "grid_auto_flow": null,
            "grid_auto_rows": null,
            "grid_column": null,
            "grid_gap": null,
            "grid_row": null,
            "grid_template_areas": null,
            "grid_template_columns": null,
            "grid_template_rows": null,
            "height": null,
            "justify_content": null,
            "justify_items": null,
            "left": null,
            "margin": null,
            "max_height": null,
            "max_width": null,
            "min_height": null,
            "min_width": null,
            "object_fit": null,
            "object_position": null,
            "order": null,
            "overflow": null,
            "overflow_x": null,
            "overflow_y": null,
            "padding": null,
            "right": null,
            "top": null,
            "visibility": null,
            "width": null
          }
        },
        "7eb0b07769c043959e6162d2976c6564": {
          "model_module": "@jupyter-widgets/base",
          "model_name": "LayoutModel",
          "model_module_version": "1.2.0",
          "state": {
            "_model_module": "@jupyter-widgets/base",
            "_model_module_version": "1.2.0",
            "_model_name": "LayoutModel",
            "_view_count": null,
            "_view_module": "@jupyter-widgets/base",
            "_view_module_version": "1.2.0",
            "_view_name": "LayoutView",
            "align_content": null,
            "align_items": null,
            "align_self": null,
            "border": null,
            "bottom": null,
            "display": null,
            "flex": null,
            "flex_flow": null,
            "grid_area": null,
            "grid_auto_columns": null,
            "grid_auto_flow": null,
            "grid_auto_rows": null,
            "grid_column": null,
            "grid_gap": null,
            "grid_row": null,
            "grid_template_areas": null,
            "grid_template_columns": null,
            "grid_template_rows": null,
            "height": null,
            "justify_content": null,
            "justify_items": null,
            "left": null,
            "margin": null,
            "max_height": null,
            "max_width": null,
            "min_height": null,
            "min_width": null,
            "object_fit": null,
            "object_position": null,
            "order": null,
            "overflow": null,
            "overflow_x": null,
            "overflow_y": null,
            "padding": null,
            "right": null,
            "top": null,
            "visibility": null,
            "width": null
          }
        },
        "5429cb8db42b4adb9ffbebc4bce7eb68": {
          "model_module": "@jupyter-widgets/controls",
          "model_name": "DescriptionStyleModel",
          "model_module_version": "1.5.0",
          "state": {
            "_model_module": "@jupyter-widgets/controls",
            "_model_module_version": "1.5.0",
            "_model_name": "DescriptionStyleModel",
            "_view_count": null,
            "_view_module": "@jupyter-widgets/base",
            "_view_module_version": "1.2.0",
            "_view_name": "StyleView",
            "description_width": ""
          }
        },
        "7c25e2cf486b4cff94c49b34377dcc43": {
          "model_module": "@jupyter-widgets/base",
          "model_name": "LayoutModel",
          "model_module_version": "1.2.0",
          "state": {
            "_model_module": "@jupyter-widgets/base",
            "_model_module_version": "1.2.0",
            "_model_name": "LayoutModel",
            "_view_count": null,
            "_view_module": "@jupyter-widgets/base",
            "_view_module_version": "1.2.0",
            "_view_name": "LayoutView",
            "align_content": null,
            "align_items": null,
            "align_self": null,
            "border": null,
            "bottom": null,
            "display": null,
            "flex": null,
            "flex_flow": null,
            "grid_area": null,
            "grid_auto_columns": null,
            "grid_auto_flow": null,
            "grid_auto_rows": null,
            "grid_column": null,
            "grid_gap": null,
            "grid_row": null,
            "grid_template_areas": null,
            "grid_template_columns": null,
            "grid_template_rows": null,
            "height": null,
            "justify_content": null,
            "justify_items": null,
            "left": null,
            "margin": null,
            "max_height": null,
            "max_width": null,
            "min_height": null,
            "min_width": null,
            "object_fit": null,
            "object_position": null,
            "order": null,
            "overflow": null,
            "overflow_x": null,
            "overflow_y": null,
            "padding": null,
            "right": null,
            "top": null,
            "visibility": null,
            "width": null
          }
        },
        "de2190321758421abdb9d560ed29a635": {
          "model_module": "@jupyter-widgets/controls",
          "model_name": "ProgressStyleModel",
          "model_module_version": "1.5.0",
          "state": {
            "_model_module": "@jupyter-widgets/controls",
            "_model_module_version": "1.5.0",
            "_model_name": "ProgressStyleModel",
            "_view_count": null,
            "_view_module": "@jupyter-widgets/base",
            "_view_module_version": "1.2.0",
            "_view_name": "StyleView",
            "bar_color": null,
            "description_width": ""
          }
        },
        "e669a29ff7d84889842af3f71e962337": {
          "model_module": "@jupyter-widgets/base",
          "model_name": "LayoutModel",
          "model_module_version": "1.2.0",
          "state": {
            "_model_module": "@jupyter-widgets/base",
            "_model_module_version": "1.2.0",
            "_model_name": "LayoutModel",
            "_view_count": null,
            "_view_module": "@jupyter-widgets/base",
            "_view_module_version": "1.2.0",
            "_view_name": "LayoutView",
            "align_content": null,
            "align_items": null,
            "align_self": null,
            "border": null,
            "bottom": null,
            "display": null,
            "flex": null,
            "flex_flow": null,
            "grid_area": null,
            "grid_auto_columns": null,
            "grid_auto_flow": null,
            "grid_auto_rows": null,
            "grid_column": null,
            "grid_gap": null,
            "grid_row": null,
            "grid_template_areas": null,
            "grid_template_columns": null,
            "grid_template_rows": null,
            "height": null,
            "justify_content": null,
            "justify_items": null,
            "left": null,
            "margin": null,
            "max_height": null,
            "max_width": null,
            "min_height": null,
            "min_width": null,
            "object_fit": null,
            "object_position": null,
            "order": null,
            "overflow": null,
            "overflow_x": null,
            "overflow_y": null,
            "padding": null,
            "right": null,
            "top": null,
            "visibility": null,
            "width": null
          }
        },
        "17a3939d8a2b4bfd97be7d71b736adce": {
          "model_module": "@jupyter-widgets/controls",
          "model_name": "DescriptionStyleModel",
          "model_module_version": "1.5.0",
          "state": {
            "_model_module": "@jupyter-widgets/controls",
            "_model_module_version": "1.5.0",
            "_model_name": "DescriptionStyleModel",
            "_view_count": null,
            "_view_module": "@jupyter-widgets/base",
            "_view_module_version": "1.2.0",
            "_view_name": "StyleView",
            "description_width": ""
          }
        }
      }
    }
  },
  "cells": [
    {
      "cell_type": "markdown",
      "metadata": {
        "id": "view-in-github",
        "colab_type": "text"
      },
      "source": [
        "<a href=\"https://colab.research.google.com/github/thisissepehr/image-classification-deep-models/blob/main/VGG16_CIFAR10.ipynb\" target=\"_parent\"><img src=\"https://colab.research.google.com/assets/colab-badge.svg\" alt=\"Open In Colab\"/></a>"
      ]
    },
    {
      "cell_type": "code",
      "execution_count": 1,
      "metadata": {
        "colab": {
          "base_uri": "https://localhost:8080/"
        },
        "id": "kvPjs_bf0XOw",
        "outputId": "fd9ab4ec-7fe9-4056-b3ff-979436bc3423"
      },
      "outputs": [
        {
          "output_type": "stream",
          "name": "stdout",
          "text": [
            "Requirement already satisfied: torch in /usr/local/lib/python3.7/dist-packages (1.11.0+cu113)\n",
            "Requirement already satisfied: torchvision in /usr/local/lib/python3.7/dist-packages (0.12.0+cu113)\n",
            "Collecting torch-summary\n",
            "  Downloading torch_summary-1.4.5-py3-none-any.whl (16 kB)\n",
            "Requirement already satisfied: typing-extensions in /usr/local/lib/python3.7/dist-packages (from torch) (4.2.0)\n",
            "Requirement already satisfied: requests in /usr/local/lib/python3.7/dist-packages (from torchvision) (2.23.0)\n",
            "Requirement already satisfied: pillow!=8.3.*,>=5.3.0 in /usr/local/lib/python3.7/dist-packages (from torchvision) (7.1.2)\n",
            "Requirement already satisfied: numpy in /usr/local/lib/python3.7/dist-packages (from torchvision) (1.21.6)\n",
            "Requirement already satisfied: certifi>=2017.4.17 in /usr/local/lib/python3.7/dist-packages (from requests->torchvision) (2021.10.8)\n",
            "Requirement already satisfied: idna<3,>=2.5 in /usr/local/lib/python3.7/dist-packages (from requests->torchvision) (2.10)\n",
            "Requirement already satisfied: urllib3!=1.25.0,!=1.25.1,<1.26,>=1.21.1 in /usr/local/lib/python3.7/dist-packages (from requests->torchvision) (1.24.3)\n",
            "Requirement already satisfied: chardet<4,>=3.0.2 in /usr/local/lib/python3.7/dist-packages (from requests->torchvision) (3.0.4)\n",
            "Installing collected packages: torch-summary\n",
            "Successfully installed torch-summary-1.4.5\n"
          ]
        }
      ],
      "source": [
        "! pip install torch torchvision torch-summary"
      ]
    },
    {
      "cell_type": "code",
      "source": [
        "import torch\n",
        "print(torch.__version__)\n",
        "from torch import nn\n",
        "from torch.utils.data import DataLoader\n",
        "from torchvision import transforms\n",
        "import time\n",
        "import numpy as np\n",
        "from torchvision.datasets import MNIST\n",
        "from torchvision.transforms import ToTensor\n",
        "\n",
        "import torch.nn.functional as F\n",
        "import cv2\n",
        "\n",
        "from torchvision import datasets\n",
        "import matplotlib.pyplot as plt\n",
        "from tqdm.autonotebook import tqdm\n",
        "from sklearn.metrics import classification_report, confusion_matrix\n",
        "from torchsummary import summary\n"
      ],
      "metadata": {
        "colab": {
          "base_uri": "https://localhost:8080/"
        },
        "id": "IpehzFa40ybD",
        "outputId": "c5e3a092-3082-4d17-ab05-fc652a5c72ec"
      },
      "execution_count": 55,
      "outputs": [
        {
          "output_type": "stream",
          "name": "stdout",
          "text": [
            "1.11.0+cu113\n"
          ]
        }
      ]
    },
    {
      "cell_type": "code",
      "source": [
        "# Hyperparameters\n",
        "RANDOM_SEED = 42\n",
        "LEARNING_RATE = 1e-3\n",
        "BATCH_SIZE = 64\n",
        "NUM_EPOCHS = 10\n",
        "\n",
        "# Architecture\n",
        "NUM_FEATURES = 28*28\n",
        "NUM_CLASSES = 10\n",
        "\n",
        "# Other\n",
        "\n",
        "DEVICE = 'cuda:0'\n",
        "# print(DEVICE)\n",
        "GRAYSCALE = True"
      ],
      "metadata": {
        "id": "BVWjulPg05EC"
      },
      "execution_count": 3,
      "outputs": []
    },
    {
      "cell_type": "code",
      "source": [
        "def scale(data):\n",
        "        (images,y) = data\n",
        "        img_rgb = []\n",
        "        for img in images:\n",
        "                img = cv2.resize(img, (64, 64), interpolation = cv2.INTER_AREA) \n",
        "                img_rgb.append(img)\n",
        "        img_rgb = np.asanyarray(img_rgb)\n",
        "        return img_rgb,y\n",
        "\n",
        "def rgb(data):\n",
        "        (images,y) = data\n",
        "        img_rgb = []\n",
        "        for img in images:\n",
        "                img = cv2.resize(img, (64, 64), interpolation = cv2.INTER_AREA)\n",
        "                #img_rgb.append(np.asarray(cv2.cvtColor(img, cv2.COLOR_GRAY2RGB)))\n",
        "                img_rgb.append(np.asarray(np.dstack((img, img, img)), dtype=np.uint8))\n",
        "        img_rgb = np.asanyarray(img_rgb)\n",
        "        return img_rgb,y"
      ],
      "metadata": {
        "id": "KmuEOCTMerWu"
      },
      "execution_count": 4,
      "outputs": []
    },
    {
      "cell_type": "code",
      "source": [
        "transform_train = transforms.Compose([\n",
        "    transforms.Resize(64),\n",
        "    transforms.RandomRotation(30),\n",
        "    transforms.ToTensor(),\n",
        "    transforms.Normalize(mean=(0.5,), std=(0.5,))])\n",
        "\n",
        "transform_test = transforms.Compose([\n",
        "    transforms.Resize(64),\n",
        "    transforms.ToTensor(),\n",
        "    transforms.Normalize(mean=(0.5,), std=(0.5,))])\n",
        "\n",
        "\n",
        "train_ds = datasets.MNIST(root='data', \n",
        "                               train=True, \n",
        "                               transform=transform_train,\n",
        "                               download=True)\n",
        "train_set, val_set = torch.utils.data.random_split(train_ds, [50000, 10000])\n",
        "\n",
        "test_ds = datasets.MNIST(root='data', \n",
        "                              train=False, \n",
        "                              transform=transform_test)\n",
        "print(test_ds[0])\n",
        "\n",
        "\n",
        "train_loader = DataLoader(dataset=train_set,\n",
        "                          batch_size=BATCH_SIZE,\n",
        "                      shuffle = False)\n",
        "\n",
        "\n",
        "val_loader = DataLoader(dataset=val_set,\n",
        "                          batch_size=BATCH_SIZE,\n",
        "                      shuffle = False)\n",
        "\n",
        "test_loader = DataLoader(dataset=test_ds,\n",
        "                     batch_size=BATCH_SIZE,\n",
        "                     shuffle = False)\n",
        "\n",
        "# Checking the dataset\n",
        "images, labels = next(iter(train_loader))  \n",
        "print('Image batch dimensions:', images.shape)\n",
        "print('Image label dimensions:', labels.shape)"
      ],
      "metadata": {
        "colab": {
          "base_uri": "https://localhost:8080/"
        },
        "id": "j54K_P7k1Cox",
        "outputId": "f632233b-1c34-42dc-fed7-f5645c630e86"
      },
      "execution_count": 9,
      "outputs": [
        {
          "output_type": "stream",
          "name": "stdout",
          "text": [
            "(tensor([[[-1., -1., -1.,  ..., -1., -1., -1.],\n",
            "         [-1., -1., -1.,  ..., -1., -1., -1.],\n",
            "         [-1., -1., -1.,  ..., -1., -1., -1.],\n",
            "         ...,\n",
            "         [-1., -1., -1.,  ..., -1., -1., -1.],\n",
            "         [-1., -1., -1.,  ..., -1., -1., -1.],\n",
            "         [-1., -1., -1.,  ..., -1., -1., -1.]]]), 7)\n",
            "Image batch dimensions: torch.Size([64, 1, 64, 64])\n",
            "Image label dimensions: torch.Size([64])\n"
          ]
        }
      ]
    },
    {
      "cell_type": "code",
      "source": [
        "features, targets = next(iter(train_loader))\n",
        "\n",
        "features = features\n",
        "targets = targets\n",
        "\n",
        "    \n",
        "nhwc_img = np.transpose(features[2], axes=(1, 2, 0))\n",
        "nhw_img = np.squeeze(nhwc_img.numpy(), axis=2)\n",
        "plt.imshow(nhw_img, cmap='Greys')"
      ],
      "metadata": {
        "colab": {
          "base_uri": "https://localhost:8080/",
          "height": 285
        },
        "id": "OSlu5OWa2cx1",
        "outputId": "613a31a8-24a3-4eca-aff3-d25a400e9424"
      },
      "execution_count": 10,
      "outputs": [
        {
          "output_type": "execute_result",
          "data": {
            "text/plain": [
              "<matplotlib.image.AxesImage at 0x7ff2f093e790>"
            ]
          },
          "metadata": {},
          "execution_count": 10
        },
        {
          "output_type": "display_data",
          "data": {
            "text/plain": [
              "<Figure size 432x288 with 1 Axes>"
            ],
            "image/png": "[encoded data removed]"
          },
          "metadata": {
            "needs_background": "light"
          }
        }
      ]
    },
    {
      "cell_type": "code",
      "source": [
        "#Model\n",
        "cfg = {\n",
        "    'VGG11': [64, 'M', 128, 'M', 256, 256, 'M', 512, 512, 'M', 512, 512, 'M'],\n",
        "    'VGG13': [64, 64, 'M', 128, 128, 'M', 256, 256, 'M', 512, 512, 'M', 512, 512, 'M'],\n",
        "    'VGG16': [64, 64, 'M', 128, 128, 'M', 256, 256, 256, 'M', 512, 512, 512, 'M', 512, 512, 512, 'M'],\n",
        "    'VGG19': [64, 64, 'M', 128, 128, 'M', 256, 256, 256, 256, 'M', 512, 512, 512, 512, 'M', 512, 512, 512, 512, 'M'],\n",
        "}\n",
        "\n",
        "\n",
        "class VGG(nn.Module):\n",
        "    def __init__(self, vgg_name):\n",
        "        super(VGG, self).__init__()\n",
        "        self.features = self._make_layers(cfg[vgg_name])\n",
        "        self.classifier = nn.Linear(2048, 10)\n",
        "\n",
        "    def forward(self, x):\n",
        "        out = self.features(x)\n",
        "        out = out.view(out.size(0), -1)\n",
        "        out = self.classifier(out)\n",
        "        probas = F.softmax(out, dim=1)\n",
        "        return out, probas\n",
        "\n",
        "    def _make_layers(self, cfg):\n",
        "        layers = []\n",
        "        in_channels = 1\n",
        "        for x in cfg:\n",
        "            if x == 'M':\n",
        "                layers += [nn.MaxPool2d(kernel_size=2, stride=2)]\n",
        "            else:\n",
        "                layers += [nn.Conv2d(in_channels, x, kernel_size=3, padding=1),\n",
        "                           nn.BatchNorm2d(x),\n",
        "                           nn.ReLU(inplace=True)]\n",
        "                in_channels = x\n",
        "        layers += [nn.AvgPool2d(kernel_size=1, stride=1)]\n",
        "        return nn.Sequential(*layers)\n",
        "    \n",
        "torch.manual_seed(RANDOM_SEED)"
      ],
      "metadata": {
        "colab": {
          "base_uri": "https://localhost:8080/"
        },
        "id": "dpB1LITP2o70",
        "outputId": "ef44f2ab-1af0-4fa6-c8fc-90564c51460d"
      },
      "execution_count": 17,
      "outputs": [
        {
          "output_type": "execute_result",
          "data": {
            "text/plain": [
              "<torch._C.Generator at 0x7ff31ba58c70>"
            ]
          },
          "metadata": {},
          "execution_count": 17
        }
      ]
    },
    {
      "cell_type": "code",
      "source": [
        "def accuracy(model, data_loader, device):\n",
        "    with torch.no_grad():\n",
        "        correct_predictions, counter = 0, 0\n",
        "        for _, (img, label) in enumerate(data_loader):\n",
        "            img = img.to(device)\n",
        "            label = label.float().to(device)\n",
        "            logits = model(img)\n",
        "            _, predicted_label = torch.max(logits[1], 1)\n",
        "            counter += label.size(0)\n",
        "            correct_predictions += (predicted_label == label).sum()\n",
        "    return correct_predictions.float()/counter * 100\n"
      ],
      "metadata": {
        "id": "T7PkBwUSTeqm"
      },
      "execution_count": 26,
      "outputs": []
    },
    {
      "cell_type": "code",
      "source": [
        "DEVICE = torch.device('cuda:0' if torch.cuda.is_available() else 'cpu')\n",
        "model = VGG(\"VGG16\")\n",
        "optimizer = torch.optim.RMSprop(model.parameters(), lr=LEARNING_RATE)\n",
        "model = model.to(DEVICE)\n",
        "# summary(model,(1, 64, 64))"
      ],
      "metadata": {
        "id": "DGU4n1a1SGU1"
      },
      "execution_count": 27,
      "outputs": []
    },
    {
      "cell_type": "code",
      "source": [
        "def train(model, num_epochs, train_loader,valid_loader, test_loader, optimizer):\n",
        "    start_time = time.time()\n",
        "    for epoch in range(num_epochs):\n",
        "        model.train()\n",
        "        for batch_idx, (features, targets) in enumerate(train_loader):\n",
        "            features = features.to(DEVICE)\n",
        "            targets = targets.to(DEVICE)\n",
        "            logits = model(features)\n",
        "            loss = torch.nn.functional.cross_entropy(logits[1], targets)\n",
        "            optimizer.zero_grad()\n",
        "            loss.backward()\n",
        "            optimizer.step()\n",
        "        model.eval()\n",
        "        with torch.no_grad():\n",
        "            train_acc = accuracy(model, train_loader, device=DEVICE)\n",
        "            valid_acc = accuracy(model, valid_loader, device=DEVICE)\n",
        "            print(f'Epoch: {epoch+1:03d}/{num_epochs:03d} '\n",
        "                  f'| Train: {train_acc :.2f}% '\n",
        "                  f'| Validation: {valid_acc :.2f}%')\n",
        "        elapsed = (time.time() - start_time)/60\n",
        "        print(f'Time elapsed: {elapsed:.2f} min')        \n",
        "    elapsed = (time.time() - start_time)/60\n",
        "    print(f'Total Training Time: {elapsed:.2f} min')\n",
        "    test_acc = accuracy(model, test_loader, device=DEVICE)\n",
        "    print(f'Test accuracy {test_acc :.2f}%')"
      ],
      "metadata": {
        "id": "aOGBm8YNNnwt"
      },
      "execution_count": 28,
      "outputs": []
    },
    {
      "cell_type": "code",
      "source": [
        "train(model= model,\n",
        "      num_epochs = NUM_EPOCHS,\n",
        "      train_loader= train_loader,\n",
        "      valid_loader = val_loader,\n",
        "      test_loader = test_loader,\n",
        "      optimizer = optimizer)"
      ],
      "metadata": {
        "colab": {
          "base_uri": "https://localhost:8080/"
        },
        "id": "a6L1h8qfaWr1",
        "outputId": "7ce52c5f-35a1-45a3-ff1a-9470652c6186"
      },
      "execution_count": 29,
      "outputs": [
        {
          "output_type": "stream",
          "name": "stdout",
          "text": [
            "Epoch: 001/010 | Train: 30.37% | Validation: 30.45%\n",
            "Time elapsed: 1.52 min\n",
            "Epoch: 002/010 | Train: 25.95% | Validation: 26.03%\n",
            "Time elapsed: 3.08 min\n",
            "Epoch: 003/010 | Train: 56.03% | Validation: 55.55%\n",
            "Time elapsed: 4.65 min\n",
            "Epoch: 004/010 | Train: 76.00% | Validation: 75.55%\n",
            "Time elapsed: 6.22 min\n",
            "Epoch: 005/010 | Train: 91.53% | Validation: 91.55%\n",
            "Time elapsed: 7.79 min\n",
            "Epoch: 006/010 | Train: 95.60% | Validation: 95.37%\n",
            "Time elapsed: 9.37 min\n",
            "Epoch: 007/010 | Train: 96.40% | Validation: 96.08%\n",
            "Time elapsed: 10.94 min\n",
            "Epoch: 008/010 | Train: 96.35% | Validation: 96.26%\n",
            "Time elapsed: 12.51 min\n",
            "Epoch: 009/010 | Train: 96.52% | Validation: 96.47%\n",
            "Time elapsed: 14.08 min\n",
            "Epoch: 010/010 | Train: 96.38% | Validation: 96.13%\n",
            "Time elapsed: 15.66 min\n",
            "Total Training Time: 15.66 min\n",
            "Test accuracy 96.85%\n"
          ]
        }
      ]
    },
    {
      "cell_type": "code",
      "source": [
        "def get_prediction(x, model):\n",
        "    model.to('cpu') # prepares model for predicting\n",
        "    probabilities = torch.softmax(model(x)[1], dim=1)\n",
        "    predicted_class = torch.argmax(probabilities, dim=1)\n",
        "    return predicted_class, probabilities"
      ],
      "metadata": {
        "id": "2a_Ti1KTeNge"
      },
      "execution_count": 35,
      "outputs": []
    },
    {
      "cell_type": "code",
      "source": [
        "true_y, pred_y = [], []\n",
        "for batch in tqdm(iter(test_loader), total=len(test_loader)):\n",
        "    x, y = batch\n",
        "    true_y.extend(y)\n",
        "    #print(type(x))\n",
        "    preds, probs = get_prediction(x, model)\n",
        "    pred_y.extend(preds.cpu())"
      ],
      "metadata": {
        "colab": {
          "base_uri": "https://localhost:8080/",
          "height": 49,
          "referenced_widgets": [
            "442bc69988e94ecd93278acda99bd54d",
            "24fc7b7abc2b40c3b9bcee485b1a0c15",
            "fcc3fa0cb2944888bcec27dba33fcefa",
            "985efaf5e75648be86e5765ace4717a8",
            "cc94ebb845484479a4e925de7a525dc3",
            "7eb0b07769c043959e6162d2976c6564",
            "5429cb8db42b4adb9ffbebc4bce7eb68",
            "7c25e2cf486b4cff94c49b34377dcc43",
            "de2190321758421abdb9d560ed29a635",
            "e669a29ff7d84889842af3f71e962337",
            "17a3939d8a2b4bfd97be7d71b736adce"
          ]
        },
        "id": "AdQrCDzXDyDJ",
        "outputId": "d914623f-bfd6-4130-8b80-ef867f3e52db"
      },
      "execution_count": 36,
      "outputs": [
        {
          "output_type": "display_data",
          "data": {
            "text/plain": [
              "  0%|          | 0/157 [00:00<?, ?it/s]"
            ],
            "application/vnd.jupyter.widget-view+json": {
              "version_major": 2,
              "version_minor": 0,
              "model_id": "442bc69988e94ecd93278acda99bd54d"
            }
          },
          "metadata": {}
        }
      ]
    },
    {
      "cell_type": "code",
      "source": [
        "print(classification_report(true_y, pred_y, digits=3))"
      ],
      "metadata": {
        "colab": {
          "base_uri": "https://localhost:8080/"
        },
        "id": "1anWnzKUDwi5",
        "outputId": "3919cfbf-6031-4c87-a198-83ebc62990f9"
      },
      "execution_count": 37,
      "outputs": [
        {
          "output_type": "stream",
          "name": "stdout",
          "text": [
            "              precision    recall  f1-score   support\n",
            "\n",
            "           0      0.995     0.978     0.986       980\n",
            "           1      0.996     0.987     0.992      1135\n",
            "           2      0.995     0.915     0.953      1032\n",
            "           3      0.934     0.996     0.964      1010\n",
            "           4      0.995     0.934     0.963       982\n",
            "           5      0.977     0.961     0.969       892\n",
            "           6      0.981     0.991     0.986       958\n",
            "           7      0.904     0.994     0.947      1028\n",
            "           8      0.995     0.940     0.967       974\n",
            "           9      0.932     0.987     0.959      1009\n",
            "\n",
            "    accuracy                          0.969     10000\n",
            "   macro avg      0.970     0.968     0.969     10000\n",
            "weighted avg      0.970     0.969     0.969     10000\n",
            "\n"
          ]
        }
      ]
    },
    {
      "cell_type": "code",
      "source": [
        "features, targets = next(iter(test_loader))    \n",
        "nhwc_img = np.transpose(features[3], axes=(1, 2, 0))\n",
        "nhw_img = np.squeeze(nhwc_img.numpy(), axis=2)\n",
        "plt.imshow(nhw_img, cmap='Greys')"
      ],
      "metadata": {
        "colab": {
          "base_uri": "https://localhost:8080/",
          "height": 285
        },
        "id": "TOgRUg7rD3mB",
        "outputId": "baf2e45b-8ad1-48cd-df2e-d8c28152c893"
      },
      "execution_count": 38,
      "outputs": [
        {
          "output_type": "execute_result",
          "data": {
            "text/plain": [
              "<matplotlib.image.AxesImage at 0x7ff2e0f0c650>"
            ]
          },
          "metadata": {},
          "execution_count": 38
        },
        {
          "output_type": "display_data",
          "data": {
            "text/plain": [
              "<Figure size 432x288 with 1 Axes>"
            ],
            "image/png": "[encoded data removed]"
          },
          "metadata": {
            "needs_background": "light"
          }
        }
      ]
    },
    {
      "cell_type": "code",
      "source": [
        "predicted, probability = get_prediction(features[3, None], model)\n",
        "print('Predicted:', predicted)\n",
        "print('Probability:', probability[0][predicted]*100)"
      ],
      "metadata": {
        "colab": {
          "base_uri": "https://localhost:8080/"
        },
        "id": "keCd8uYMD6Ms",
        "outputId": "17deacc2-14f9-4122-e4d7-68afb8617b14"
      },
      "execution_count": 39,
      "outputs": [
        {
          "output_type": "stream",
          "name": "stdout",
          "text": [
            "Predicted: tensor([0])\n",
            "Probability: tensor([23.1969], grad_fn=<MulBackward0>)\n"
          ]
        }
      ]
    },
    {
      "cell_type": "code",
      "source": [
        "import itertools\n",
        "\n",
        "def plot_confusion_matrix(cm, classes, normalize=False, title='Confusion matrix', cmap=plt.cm.YlGnBu):\n",
        "    fig, ax = plt.subplots(figsize=(16,16))\n",
        "    if normalize:\n",
        "        cm = cm.astype('float') / cm.sum(axis=1)[:, np.newaxis]\n",
        "        print(\"Normalized confusion matrix\")\n",
        "    else:\n",
        "        print('Confusion matrix, without normalization')\n",
        "\n",
        "    print(cm)\n",
        "    plt.imshow(cm, interpolation='nearest', cmap=cmap)\n",
        "    plt.title(title)\n",
        "    plt.colorbar()\n",
        "    tick_marks = np.arange(len(classes))\n",
        "    plt.xticks(tick_marks, classes, rotation=45)\n",
        "    plt.yticks(tick_marks, classes)\n",
        "\n",
        "    fmt = '.2f' if normalize else 'd'\n",
        "    thresh = cm.max() / 2.\n",
        "    for i, j in itertools.product(range(cm.shape[0]), range(cm.shape[1])):\n",
        "        plt.text(j, i, format(cm[i, j], fmt), horizontalalignment=\"center\", color=\"white\" if cm[i, j] > thresh else \"black\")\n",
        "\n",
        "    plt.tight_layout()\n",
        "    plt.ylabel('True label')\n",
        "    plt.xlabel('Predicted label')"
      ],
      "metadata": {
        "id": "QCVqbOO7K57v"
      },
      "execution_count": 63,
      "outputs": []
    },
    {
      "cell_type": "code",
      "source": [
        "cm = confusion_matrix(true_y, pred_y)\n",
        "labels = ['airplane', 'automobile', 'bird', 'cat', 'deer', 'dog', 'frog', 'horse', 'ship', 'truck']\n",
        "plot_confusion_matrix(cm,labels) "
      ],
      "metadata": {
        "colab": {
          "base_uri": "https://localhost:8080/",
          "height": 1000
        },
        "id": "2ku69ISrFViF",
        "outputId": "e84c9643-a155-4b4e-dca0-4f276dc202b6"
      },
      "execution_count": 64,
      "outputs": [
        {
          "output_type": "stream",
          "name": "stdout",
          "text": [
            "Confusion matrix, without normalization\n",
            "[[ 958    0    1    2    0    0    5    3    0   11]\n",
            " [   0 1120    1    6    0    2    3    3    0    0]\n",
            " [   1    0  944    5    0    0    3   78    1    0]\n",
            " [   0    0    0 1006    0    1    0    3    0    0]\n",
            " [   0    2    0    0  917    0    1   11    1   50]\n",
            " [   0    0    0   28    0  857    5    1    0    1]\n",
            " [   1    0    0    1    1    5  949    0    1    0]\n",
            " [   0    2    2    1    0    0    0 1022    0    1]\n",
            " [   3    0    1   25    2   12    1    4  916   10]\n",
            " [   0    0    0    3    2    0    0    6    2  996]]\n"
          ]
        },
        {
          "output_type": "display_data",
          "data": {
            "text/plain": [
              "<Figure size 1152x1152 with 2 Axes>"
            ],
            "image/png": "[encoded data removed]"
          },
          "metadata": {
            "needs_background": "light"
          }
        }
      ]
    },
    {
      "cell_type": "code",
      "source": [
        ""
      ],
      "metadata": {
        "id": "LnV2e-xkInxT"
      },
      "execution_count": 64,
      "outputs": []
    },
    {
      "cell_type": "code",
      "source": [
        ""
      ],
      "metadata": {
        "id": "QASs7jPgIvpj"
      },
      "execution_count": null,
      "outputs": []
    }
  ]
}